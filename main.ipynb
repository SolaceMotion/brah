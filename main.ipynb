{
 "cells": [
  {
   "cell_type": "code",
   "execution_count": 29,
   "metadata": {},
   "outputs": [],
   "source": [
    "import numpy as np\n",
    "import matplotlib.pyplot as plt\n",
    "import csv"
   ]
  },
  {
   "cell_type": "code",
   "execution_count": 31,
   "metadata": {},
   "outputs": [],
   "source": [
    "def generate_training_data(*argv):\n",
    "  temp = []\n",
    "  for arg in argv:\n",
    "    temp.append(arg)\n",
    "  return np.array(temp)\n",
    "  \n",
    "training_data = generate_training_data(200,300,1700,950,900,6)"
   ]
  },
  {
   "cell_type": "code",
   "execution_count": 33,
   "metadata": {},
   "outputs": [],
   "source": [
    "def process_data(data):\n",
    "  processed_data = []\n",
    "  with open(data, 'r') as f:\n",
    "    reader = csv.reader(f)\n",
    "    next(reader)\n",
    "\n",
    "    for row in reader:\n",
    "      temp = [float(feature) for feature in row]\n",
    "      processed_data.append(temp)\n",
    "  \n",
    "  return np.array(processed_data)\n",
    "\n",
    "processed_data = process_data(\"house_data.csv\")"
   ]
  },
  {
   "cell_type": "code",
   "execution_count": 34,
   "metadata": {},
   "outputs": [],
   "source": [
    "def euc_distance(specimen, test_subject):\n",
    "  temp_sum = 0\n",
    "  #sum up the squared difference of each feature\n",
    "  for s, t in zip(specimen, test_subject):\n",
    "    temp_sum += (s-t)**2\n",
    "  return np.sqrt(temp_sum)"
   ]
  },
  {
   "cell_type": "code",
   "execution_count": 35,
   "metadata": {},
   "outputs": [],
   "source": [
    "def predict(k, data, training):\n",
    "  first_col = data[:,0]\n",
    "  distances = []\n",
    "  for specimen in data:\n",
    "    #skip first column with prices\n",
    "    dist = euc_distance(specimen[1:], training)\n",
    "    distances.append(dist)\n",
    "  \n",
    "  #Sort indicies by closest distance and get k of them\n",
    "  nearest = np.argsort(distances)[:k]\n",
    "  \n",
    "  return np.mean([first_col[i] for i in nearest])"
   ]
  },
  {
   "cell_type": "code",
   "execution_count": 38,
   "metadata": {},
   "outputs": [
    {
     "data": {
      "image/png": "[encoded data removed]",
      "text/plain": [
       "<Figure size 432x288 with 1 Axes>"
      ]
     },
     "metadata": {
      "needs_background": "light"
     },
     "output_type": "display_data"
    }
   ],
   "source": [
    "def run(data):\n",
    "  max_k = len(data)\n",
    "  k_var = np.arange(1,max_k+1,1)\n",
    "\n",
    "  #Predict house price based on provided house data\n",
    "  values = [predict(k, processed_data, training_data) for k in k_var]\n",
    "\n",
    "  plt.title(\"Predicted price based on k\")\n",
    "  plt.ylabel(\"Price\")\n",
    "  plt.xlabel(\"K\")\n",
    "  plt.scatter(k_var, values)\n",
    "  plt.grid()\n",
    "  plt.show()\n",
    "\n",
    "run(processed_data)"
   ]
  }
 ],
 "metadata": {
  "interpreter": {
   "hash": "e7370f93d1d0cde622a1f8e1c04877d8463912d04d973331ad4851f04de6915a"
  },
  "kernelspec": {
   "display_name": "Python 3.10.4 64-bit",
   "language": "python",
   "name": "python3"
  },
  "language_info": {
   "codemirror_mode": {
    "name": "ipython",
    "version": 3
   },
   "file_extension": ".py",
   "mimetype": "text/x-python",
   "name": "python",
   "nbconvert_exporter": "python",
   "pygments_lexer": "ipython3",
   "version": "3.10.4"
  },
  "orig_nbformat": 4
 },
 "nbformat": 4,
 "nbformat_minor": 2
}
