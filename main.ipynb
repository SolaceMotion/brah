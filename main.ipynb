{
 "cells": [
  {
   "cell_type": "code",
   "execution_count": 4,
   "metadata": {},
   "outputs": [],
   "source": [
    "import csv\n",
    "import matplotlib.pyplot as plt\n",
    "import numpy as np"
   ]
  },
  {
   "cell_type": "code",
   "execution_count": 2,
   "metadata": {},
   "outputs": [],
   "source": [
    "data = []\n",
    "with open('hus.csv', newline='') as csvfile:\n",
    "  spamreader = csv.DictReader(csvfile, delimiter=\";\")\n",
    "  for row in spamreader:\n",
    "    for key in row.keys():\n",
    "      row[key] = int(row[key])\n",
    "    data.append(row)"
   ]
  },
  {
   "cell_type": "code",
   "execution_count": 3,
   "metadata": {},
   "outputs": [
    {
     "data": {
      "text/plain": [
       "[{'pris': 1000000,\n",
       "  'boarea': 190,\n",
       "  'tomtarea': 90,\n",
       "  'centrum': 2000,\n",
       "  'natur': 2400,\n",
       "  'vatten': 2030,\n",
       "  'kvalitet': 5},\n",
       " {'pris': 1200000,\n",
       "  'boarea': 180,\n",
       "  'tomtarea': 100,\n",
       "  'centrum': 3000,\n",
       "  'natur': 1000,\n",
       "  'vatten': 1450,\n",
       "  'kvalitet': 5},\n",
       " {'pris': 1350000,\n",
       "  'boarea': 200,\n",
       "  'tomtarea': 100,\n",
       "  'centrum': 1700,\n",
       "  'natur': 950,\n",
       "  'vatten': 900,\n",
       "  'kvalitet': 6},\n",
       " {'pris': 1500000,\n",
       "  'boarea': 250,\n",
       "  'tomtarea': 200,\n",
       "  'centrum': 2400,\n",
       "  'natur': 2000,\n",
       "  'vatten': 2100,\n",
       "  'kvalitet': 6},\n",
       " {'pris': 2000000,\n",
       "  'boarea': 260,\n",
       "  'tomtarea': 210,\n",
       "  'centrum': 2100,\n",
       "  'natur': 700,\n",
       "  'vatten': 1760,\n",
       "  'kvalitet': 7},\n",
       " {'pris': 3000000,\n",
       "  'boarea': 300,\n",
       "  'tomtarea': 250,\n",
       "  'centrum': 1900,\n",
       "  'natur': 800,\n",
       "  'vatten': 1000,\n",
       "  'kvalitet': 9}]"
      ]
     },
     "execution_count": 3,
     "metadata": {},
     "output_type": "execute_result"
    }
   ],
   "source": [
    "plt.scatter(vmin=0, vmax=100)\n",
    "\n",
    "fig, ax = plt.subplots()\n",
    "\n"
   ]
  }
 ],
 "metadata": {
  "interpreter": {
   "hash": "af61dcc9eab2410deb669fabfbb01d82c78202c369d260ea2caf602997255ed8"
  },
  "kernelspec": {
   "display_name": "Python 3.8.5 32-bit",
   "language": "python",
   "name": "python3"
  },
  "language_info": {
   "codemirror_mode": {
    "name": "ipython",
    "version": 3
   },
   "file_extension": ".py",
   "mimetype": "text/x-python",
   "name": "python",
   "nbconvert_exporter": "python",
   "pygments_lexer": "ipython3",
   "version": "3.8.5"
  },
  "orig_nbformat": 4
 },
 "nbformat": 4,
 "nbformat_minor": 2
}
